{
  "nbformat": 4,
  "nbformat_minor": 0,
  "metadata": {
    "colab": {
      "name": "lol_analysis.ipynb",
      "provenance": [],
      "collapsed_sections": [],
      "toc_visible": true
    },
    "kernelspec": {
      "name": "python3",
      "display_name": "Python 3",
      "language": "python"
    },
    "accelerator": "GPU"
  },
  "cells": [
    {
      "cell_type": "markdown",
      "metadata": {
        "id": "uYGcQqr3MyKS"
      },
      "source": [
        "---\n",
        "\n",
        "# Analise partidas League of Legends\n",
        "\n",
        "League of Legends (*LoL*) é um jogo eletrônico online do gênero de batalha entre multijogadores.\n",
        "\n",
        "O mapa possui 02 lados, cada time (de 05 jogadores) inicia em um dos lados. Cada time tem o objetivo de destruir o **nexus** do time adversário.\n",
        "\n",
        "Até atingir o objetivo-principal, ambos os times se enfrentam pelo mapa, principalmente pelas 03 rotas (superior, meio e inferior), estas que possuem **torres** que defendem os avanços eminentes do time adversário.\n",
        "\n",
        "Há uma série de objetivos paralelos que vão auxiliando os times a adquirir dinheiro, consequentemente melhorando seus equipamentos, para atingir o objetivo principal.\n"
      ]
    },
    {
      "cell_type": "markdown",
      "metadata": {
        "id": "UjXfMbKE5yli"
      },
      "source": [
        "## Grupo:\n",
        "\n",
        "* Lucas Picollo - 16204446\n",
        "* Rafael Parola - 15200940\n",
        "* Rian Bruggemann - 15101200"
      ]
    },
    {
      "cell_type": "markdown",
      "metadata": {
        "id": "U1U03bqi7Co8"
      },
      "source": [
        "---\n",
        "\n",
        "## Descrição\n",
        "\n",
        "O projeto consiste na análise de mais de 100 mil partidas de League of Legends, dos elos Master, GrandMaster e Challenger do servidor da Korea em 2020.\n",
        "\n",
        "O dataset foi retirado do [Kaggle](https://www.kaggle.com/) e pode ser encontrado [neste link](https://www.kaggle.com/gyejr95/league-of-legendslol-ranked-games-2020-ver1).\n",
        "\n",
        "Pelo tamanho do conjunto de dados e por possuir colunas em formato json, o criador do dataset disponibilizou os arquivos em formato .pickle, porem as analises serao feitas atraves do arquivos csv."
      ]
    },
    {
      "cell_type": "markdown",
      "metadata": {
        "id": "b80ATykYYCYw"
      },
      "source": [
        "---\n",
        "\n",
        "## Importações\n",
        "\n",
        "\n",
        "\n"
      ]
    },
    {
      "cell_type": "markdown",
      "metadata": {
        "id": "Xy2h0Z0AYfDO"
      },
      "source": [
        "### Base de dados"
      ]
    },
    {
      "cell_type": "code",
      "metadata": {
        "colab": {
          "resources": {
            "http://localhost:8080/nbextensions/google.colab/files.js": {
              "data": "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",
              "ok": true,
              "headers": [
                [
                  "content-type",
                  "application/javascript"
                ]
              ],
              "status": 200,
              "status_text": ""
            }
          },
          "base_uri": "https://localhost:8080/",
          "height": 89
        },
        "id": "Heu28m0v6E32",
        "outputId": "d0341242-fa26-42ec-83fb-52fcdb9f9f2f"
      },
      "source": [
        "from google.colab import files\n",
        "\n",
        "files.upload() #upload kaggle.json\n",
        "\n",
        "!pip install -q kaggle\n",
        "!mkdir -p ~/.kaggle\n",
        "!cp kaggle.json ~/.kaggle/\n",
        "!ls ~/.kaggle\n",
        "!chmod 600 /root/.kaggle/kaggle.json\n"
      ],
      "execution_count": null,
      "outputs": []
    },
    {
      "cell_type": "code",
      "metadata": {
        "id": "I6VWJ6ew6XWg",
        "colab": {
          "base_uri": "https://localhost:8080/"
        },
        "outputId": "139dc85d-76f6-417c-81e2-79a393bf0926"
      },
      "source": [
        "!kaggle datasets download -d gyejr95/league-of-legendslol-ranked-games-2020-ver1\n",
        "!unzip league-of-legendslol-ranked-games-2020-ver1.zip data"
      ],
      "execution_count": null,
      "outputs": []
    },
    {
      "cell_type": "markdown",
      "metadata": {
        "id": "9XuScgjSYjlg"
      },
      "source": [
        "### Aplicação"
      ]
    },
    {
      "cell_type": "code",
      "metadata": {
        "id": "z-QzK9Ql6-_0"
      },
      "source": [
        "import pandas as pd\n",
        "import matplotlib.pyplot as plt\n",
        "import seaborn as sns\n",
        "import numpy as np\n",
        "import itertools\n",
        "import json\n",
        "\n",
        "%matplotlib inline"
      ],
      "execution_count": 4,
      "outputs": []
    },
    {
      "cell_type": "code",
      "metadata": {
        "id": "oZ2aOMtWq8oG"
      },
      "source": [
        "df_matches = pd.read_csv('data/match_data_version1.csv')\n",
        "df_matches.head()"
      ],
      "execution_count": 7,
      "outputs": [
        {
          "output_type": "execute_result",
          "data": {
            "text/plain": [
              "   Unnamed: 0  gameCreation  gameDuration        gameId gameMode  \\\n",
              "0           0  1.585155e+12        1323.0  4.247263e+09  CLASSIC   \n",
              "1           1  1.585152e+12        1317.0  4.247156e+09  CLASSIC   \n",
              "2           2  1.585059e+12         932.0  4.243963e+09  CLASSIC   \n",
              "3           3  1.584978e+12        2098.0  4.241678e+09  CLASSIC   \n",
              "4           4  1.584973e+12        2344.0  4.241539e+09  CLASSIC   \n",
              "\n",
              "       gameType    gameVersion  mapId  \\\n",
              "0  MATCHED_GAME  10.6.314.4405   11.0   \n",
              "1  MATCHED_GAME  10.6.314.4405   11.0   \n",
              "2  MATCHED_GAME  10.6.313.8894   11.0   \n",
              "3  MATCHED_GAME  10.6.313.8894   11.0   \n",
              "4  MATCHED_GAME  10.6.313.8894   11.0   \n",
              "\n",
              "                               participantIdentities  \\\n",
              "0  [{'participantId': 1, 'player': {'platformId':...   \n",
              "1  [{'participantId': 1, 'player': {'platformId':...   \n",
              "2  [{'participantId': 1, 'player': {'platformId':...   \n",
              "3  [{'participantId': 1, 'player': {'platformId':...   \n",
              "4  [{'participantId': 1, 'player': {'platformId':...   \n",
              "\n",
              "                                        participants platformId  queueId  \\\n",
              "0  [{'participantId': 1, 'teamId': 100, 'champion...         KR    420.0   \n",
              "1  [{'participantId': 1, 'teamId': 100, 'champion...         KR    420.0   \n",
              "2  [{'participantId': 1, 'teamId': 100, 'champion...         KR    420.0   \n",
              "3  [{'participantId': 1, 'teamId': 100, 'champion...         KR    420.0   \n",
              "4  [{'participantId': 1, 'teamId': 100, 'champion...         KR    420.0   \n",
              "\n",
              "   seasonId  status.message  status.status_code  \n",
              "0      13.0             NaN                 NaN  \n",
              "1      13.0             NaN                 NaN  \n",
              "2      13.0             NaN                 NaN  \n",
              "3      13.0             NaN                 NaN  \n",
              "4      13.0             NaN                 NaN  "
            ],
            "text/html": "<div>\n<style scoped>\n    .dataframe tbody tr th:only-of-type {\n        vertical-align: middle;\n    }\n\n    .dataframe tbody tr th {\n        vertical-align: top;\n    }\n\n    .dataframe thead th {\n        text-align: right;\n    }\n</style>\n<table border=\"1\" class=\"dataframe\">\n  <thead>\n    <tr style=\"text-align: right;\">\n      <th></th>\n      <th>Unnamed: 0</th>\n      <th>gameCreation</th>\n      <th>gameDuration</th>\n      <th>gameId</th>\n      <th>gameMode</th>\n      <th>gameType</th>\n      <th>gameVersion</th>\n      <th>mapId</th>\n      <th>participantIdentities</th>\n      <th>participants</th>\n      <th>platformId</th>\n      <th>queueId</th>\n      <th>seasonId</th>\n      <th>status.message</th>\n      <th>status.status_code</th>\n    </tr>\n  </thead>\n  <tbody>\n    <tr>\n      <th>0</th>\n      <td>0</td>\n      <td>1.585155e+12</td>\n      <td>1323.0</td>\n      <td>4.247263e+09</td>\n      <td>CLASSIC</td>\n      <td>MATCHED_GAME</td>\n      <td>10.6.314.4405</td>\n      <td>11.0</td>\n      <td>[{'participantId': 1, 'player': {'platformId':...</td>\n      <td>[{'participantId': 1, 'teamId': 100, 'champion...</td>\n      <td>KR</td>\n      <td>420.0</td>\n      <td>13.0</td>\n      <td>NaN</td>\n      <td>NaN</td>\n    </tr>\n    <tr>\n      <th>1</th>\n      <td>1</td>\n      <td>1.585152e+12</td>\n      <td>1317.0</td>\n      <td>4.247156e+09</td>\n      <td>CLASSIC</td>\n      <td>MATCHED_GAME</td>\n      <td>10.6.314.4405</td>\n      <td>11.0</td>\n      <td>[{'participantId': 1, 'player': {'platformId':...</td>\n      <td>[{'participantId': 1, 'teamId': 100, 'champion...</td>\n      <td>KR</td>\n      <td>420.0</td>\n      <td>13.0</td>\n      <td>NaN</td>\n      <td>NaN</td>\n    </tr>\n    <tr>\n      <th>2</th>\n      <td>2</td>\n      <td>1.585059e+12</td>\n      <td>932.0</td>\n      <td>4.243963e+09</td>\n      <td>CLASSIC</td>\n      <td>MATCHED_GAME</td>\n      <td>10.6.313.8894</td>\n      <td>11.0</td>\n      <td>[{'participantId': 1, 'player': {'platformId':...</td>\n      <td>[{'participantId': 1, 'teamId': 100, 'champion...</td>\n      <td>KR</td>\n      <td>420.0</td>\n      <td>13.0</td>\n      <td>NaN</td>\n      <td>NaN</td>\n    </tr>\n    <tr>\n      <th>3</th>\n      <td>3</td>\n      <td>1.584978e+12</td>\n      <td>2098.0</td>\n      <td>4.241678e+09</td>\n      <td>CLASSIC</td>\n      <td>MATCHED_GAME</td>\n      <td>10.6.313.8894</td>\n      <td>11.0</td>\n      <td>[{'participantId': 1, 'player': {'platformId':...</td>\n      <td>[{'participantId': 1, 'teamId': 100, 'champion...</td>\n      <td>KR</td>\n      <td>420.0</td>\n      <td>13.0</td>\n      <td>NaN</td>\n      <td>NaN</td>\n    </tr>\n    <tr>\n      <th>4</th>\n      <td>4</td>\n      <td>1.584973e+12</td>\n      <td>2344.0</td>\n      <td>4.241539e+09</td>\n      <td>CLASSIC</td>\n      <td>MATCHED_GAME</td>\n      <td>10.6.313.8894</td>\n      <td>11.0</td>\n      <td>[{'participantId': 1, 'player': {'platformId':...</td>\n      <td>[{'participantId': 1, 'teamId': 100, 'champion...</td>\n      <td>KR</td>\n      <td>420.0</td>\n      <td>13.0</td>\n      <td>NaN</td>\n      <td>NaN</td>\n    </tr>\n  </tbody>\n</table>\n</div>"
          },
          "metadata": {},
          "execution_count": 7
        }
      ]
    },
    {
      "cell_type": "markdown",
      "metadata": {
        "id": "rtnCfjjzkBSB"
      },
      "source": [
        "## Entendimento do Negócio\n"
      ]
    },
    {
      "cell_type": "markdown",
      "metadata": {
        "id": "lgg1IebA9aze"
      },
      "source": [
        "### Dataset jogadores por partidas"
      ]
    },
    {
      "cell_type": "markdown",
      "metadata": {
        "id": "L1XeIVcc8a1r"
      },
      "source": [
        "#### Analisando as dimensoes do dataset"
      ]
    },
    {
      "cell_type": "code",
      "metadata": {
        "colab": {
          "base_uri": "https://localhost:8080/"
        },
        "id": "U5ASpjlS8ejZ",
        "outputId": "657abacb-5698-4f1a-aa55-5e8de3c72328"
      },
      "source": [
        "df_matches.shape"
      ],
      "execution_count": 8,
      "outputs": [
        {
          "output_type": "execute_result",
          "data": {
            "text/plain": [
              "(108829, 15)"
            ]
          },
          "metadata": {},
          "execution_count": 8
        }
      ]
    },
    {
      "source": [
        "#### Agrupando as partidas por modo de jogo, podemos perceber a presenca de diferentes modos de jogo:"
      ],
      "cell_type": "markdown",
      "metadata": {
        "id": "-7TW2vo3Facb"
      }
    },
    {
      "cell_type": "code",
      "metadata": {
        "colab": {
          "base_uri": "https://localhost:8080/"
        },
        "id": "4OUTNvjWEeDv",
        "outputId": "1c14eda0-b61b-4285-fe8e-85dede66ddff"
      },
      "source": [
        "df_matches.groupby('gameMode').size()"
      ],
      "execution_count": null,
      "outputs": []
    },
    {
      "cell_type": "markdown",
      "metadata": {
        "id": "W7NelC4EFvtp"
      },
      "source": [
        "Para a análise iremos utilizar apenas dos jogos do **modo clássico**, pois os diferentes modos de jogo oferecem dinâmicas distintas entre eles, então removeremos os demais. Posteriormente removeremos os demais modos da base de dados."
      ]
    },
    {
      "cell_type": "markdown",
      "metadata": {
        "id": "Zg83bXEktTFD"
      },
      "source": [
        "Como temos em mão um dataframe serializado, ao converter para um json, acarretava em um json **não válido**, então tivemos que tratar as aspas simples ( ' ) para aspas duplas ( \" )\n",
        "\n",
        "Eh possivel perceber tambem que a coluna que representa o resultado da partida eh uma coluna textual contendo 'win' ou 'lose'"
      ]
    },
    {
      "cell_type": "code",
      "metadata": {
        "colab": {
          "base_uri": "https://localhost:8080/",
          "height": 137
        },
        "id": "vC2Dd8t7o_zX",
        "outputId": "1630bbd6-9482-4a67-8bca-acdab6fd1e56"
      },
      "source": [
        "df_matches['participants'].iloc[0]"
      ],
      "execution_count": null,
      "outputs": []
    },
    {
      "cell_type": "markdown",
      "metadata": {
        "id": "mEuMj6Hdr1yX"
      },
      "source": [
        "Precisaremos função para substituir os valores booleanos da coluna \"Win\" juntamento com a troca de aspas simples para duplas, para entao conseguirmos parsear os registros para um hash.\n"
      ]
    },
    {
      "cell_type": "markdown",
      "metadata": {
        "id": "wXgTVslcpjJd"
      },
      "source": [
        "Percebemos que para cada jogador eh gerado um id interno sendo ele um numero de 1 a 10, o que nao eh valido para identificarmos um jogador entro os demais do servidor. Para isso, precisaremos de um identificador global, que se encontra na colunda participantIdentities. \n",
        "\n",
        "Precisaremos de um meio de atrelar as estatisticas de um jogador em determinada partida com um o seu identificador global do servidor.\n"
      ]
    },
    {
      "cell_type": "code",
      "metadata": {
        "colab": {
          "base_uri": "https://localhost:8080/"
        },
        "id": "1zGzZIadqIql",
        "outputId": "e169b58d-e0e0-43c1-fbb2-a59fedf9e71f"
      },
      "source": [
        "df_matches['participants'].head()"
      ],
      "execution_count": null,
      "outputs": []
    },
    {
      "cell_type": "markdown",
      "metadata": {
        "id": "43P6_N5IwWVN"
      },
      "source": [
        "### Dataset de estatisticas das partida\n",
        "\n",
        "Alem da base de dados de jogos, possuimos dois datasets contendo estatisticas de cada partida, dividos entre vitorias e derrotas.**bold text**"
      ]
    },
    {
      "cell_type": "code",
      "metadata": {
        "colab": {
          "base_uri": "https://localhost:8080/"
        },
        "id": "jO24Pm7hw2yv",
        "outputId": "3375fd42-3887-47fa-a0c3-8c62542c40c7"
      },
      "source": [
        "df_winners = pd.read_csv('match_winner_data_version1.csv')\n",
        "df_winners.info()"
      ],
      "execution_count": null,
      "outputs": []
    },
    {
      "cell_type": "markdown",
      "metadata": {
        "id": "d1A-5dRRw2yu"
      },
      "source": [
        "Analisando a tabela de informacões sobre o time vencedor, podemos extrair as seguintes informações:\n",
        "\n",
        "* A coluna que diz se um time foi vencedor ou não apresenta dados em formato de **string**, devemos converte-lo para **bool**\n",
        "* As colunas **dominionVictoryScore** e **bans** nao serão relevantes para obtenção dos resultados esperados."
      ]
    },
    {
      "cell_type": "code",
      "metadata": {
        "colab": {
          "base_uri": "https://localhost:8080/",
          "height": 496
        },
        "id": "7eof2yP-yxcD",
        "outputId": "e939c09f-fdf4-4c8c-d7e7-8fc4717e683d"
      },
      "source": [
        "df_winners.head()"
      ],
      "execution_count": null,
      "outputs": []
    },
    {
      "cell_type": "code",
      "metadata": {
        "colab": {
          "base_uri": "https://localhost:8080/"
        },
        "id": "kmSj_Tb-60-o",
        "outputId": "4c74b65f-3f33-4d49-8d07-7b96955fe5d9"
      },
      "source": [
        "df_winners.info()"
      ],
      "execution_count": null,
      "outputs": []
    },
    {
      "cell_type": "markdown",
      "metadata": {
        "id": "Wx0Iszko62sM"
      },
      "source": [
        "#### Explicacao por coluna:\n",
        "\n",
        "* teamId : identificador do time (100,200)\n",
        "* win : resultado da partida (Win,False)\n",
        "* firstBlood : primeira morte (boolean)\n",
        "* firstTower : primeira torre (boolean)\n",
        "* firstTower : primeiro inibidor (boolean)\n",
        "* firstTower : primeiro baron (boolean)\n",
        "* firstTower : primeiro dragon (boolean)\n",
        "* firstTower : primeiro arauto (boolean)\n",
        "* towerKills : torres destruida (integer)\n",
        "* inhibitorKills : inibidores destruidos (integer)\n",
        "* baronKills : barons feitos (integer)\n",
        "* dragonKills : dragoes feitos (integer)\n",
        "* riftHeraldKills : arautos feitos (integer)\n",
        "* bans : campeoes banidos (json)\n",
        "* gameId : gameId (foreign key)\n",
        "\n"
      ]
    },
    {
      "cell_type": "markdown",
      "metadata": {
        "id": "Fn5X6Xm-IfTf"
      },
      "source": [
        "Analisando a tabela de informacões sobre o time perdedor, podemos extrair as seguintes informações:\n",
        "\n",
        "* A coluna que diz se um time foi vencedor ou não apresenta dados em formato de **string**, devemos converte-lo para **bool**\n",
        "* As colunas **dominionVictoryScore** e **bans** nao serão relevantes para obtenção dos resultados esperados."
      ]
    },
    {
      "cell_type": "markdown",
      "metadata": {
        "id": "54imrtQ4OBfI"
      },
      "source": [
        "Possuimos dois arquivos diferentes com a mesma estrutura, um para os dados do **time vencedor** e outro para o **perdedor**.\n",
        "\n",
        "Faremos a junção dos dois datasets fazendo a distrinção dos dados através da coluna **win**."
      ]
    },
    {
      "cell_type": "code",
      "metadata": {
        "colab": {
          "base_uri": "https://localhost:8080/",
          "height": 496
        },
        "id": "0RQrH0YNMcNY",
        "outputId": "325f3c94-c8ed-4338-a959-2140a09928f1"
      },
      "source": [
        "df_loosers = pd.read_csv('match_loser_data_version1.csv')\n",
        "df_winners = pd.read_csv('match_winner_data_version1.csv')\n",
        "df_winners.head()"
      ],
      "execution_count": null,
      "outputs": []
    },
    {
      "cell_type": "markdown",
      "metadata": {
        "id": "8IeiOloBX9g_"
      },
      "source": [
        "---\n",
        "\n",
        "### Objetivos\n",
        "\n",
        "Com a analise dos dados finalizada, temos como output aos objetivos da analise, sao eles:\n",
        "\n"
      ]
    },
    {
      "cell_type": "markdown",
      "metadata": {
        "id": "-paAxBlWYojD"
      },
      "source": [
        "#### Quais campeões possuem mais counters pick?\n",
        "\n",
        "*Counter pick* => significa que um campeão X possui desvantagens naturais (do jogo) em relação ao campeão Y, sendo desta forma, menos eficiente em batalha.\n",
        "\n",
        "Feito uma seleção nas colunas que usaremos para analise:\n",
        "\n",
        "* gameId\n",
        "* gameDuration - tempo de duracao da partida\n",
        "* gameMode - modo de jogo\n",
        "* participantIdentities - identificadores do jogadores\n",
        "* participants - dados sobre o jogador durante a partida\n",
        "\n",
        "Deve ser ressaltado que existem colunas que contém dados em formato **json**, o que requer um **passo adicional** de conversão para fazermos as analises.\n",
        "\n",
        "\n"
      ]
    },
    {
      "cell_type": "markdown",
      "metadata": {
        "id": "bjM9MyEXllup"
      },
      "source": [
        "#### Existem jogadores que são counters de outros jogadores?\n",
        "\n",
        "Buscaremos nos dados a relacao entre jogaores especificos para encontrar se ha alguma relacao entre eles diretamente, analisando numero de vitorias individuais.\n"
      ]
    },
    {
      "cell_type": "markdown",
      "metadata": {
        "id": "ep13HYAUlyRH"
      },
      "source": [
        "#### Quais são as caracteristicas da partida que são mais relevantes para a decisão do time vencedor?\n",
        "\n",
        "Encontrar as features que sao mais correlacionadas com o resultado da partida.\n",
        "\n",
        "Com essa analise feita queremos poder, dado uma partida sem o resultado explicitado, dizer qual será o time vencedor.\n"
      ]
    },
    {
      "cell_type": "markdown",
      "metadata": {
        "id": "ohXH8pCjlhwg"
      },
      "source": [
        "## Preparação dos Dados"
      ]
    },
    {
      "cell_type": "markdown",
      "metadata": {
        "id": "muVeMhjP3adX"
      },
      "source": [
        "### Dataset de estatisticas de partidas"
      ]
    },
    {
      "cell_type": "markdown",
      "metadata": {
        "id": "COnHVt-4ujL8"
      },
      "source": [
        "Selecao das colunas relevantes para a analise do dataset de partidas."
      ]
    },
    {
      "cell_type": "code",
      "metadata": {
        "id": "LnVTuzPvtgmP",
        "colab": {
          "base_uri": "https://localhost:8080/",
          "height": 204
        },
        "outputId": "099d3e4e-928f-4ff0-fc48-6e234327fd58"
      },
      "source": [
        "columns = ['gameId', 'gameMode', 'gameDuration', 'participantIdentities', 'participants']\n",
        "\n",
        "df_matches = pd.read_csv('match_data_version1.csv', usecols=columns)\n",
        "df_matches.head()"
      ],
      "execution_count": null,
      "outputs": []
    },
    {
      "cell_type": "markdown",
      "metadata": {
        "id": "2n3wEjUBuXue"
      },
      "source": [
        "#### Remocao dos demais modos de jogo alem do Classico."
      ]
    },
    {
      "cell_type": "code",
      "metadata": {
        "colab": {
          "base_uri": "https://localhost:8080/"
        },
        "id": "hwd6Xpm9FtcW",
        "outputId": "bea74ddc-ac55-4186-d11b-de3d9e1fa992"
      },
      "source": [
        "df_matches.drop(df_matches[df_matches['gameMode']!= 'CLASSIC'].index, axis=0, inplace=True)\n",
        "df_matches.groupby('gameMode').size()"
      ],
      "execution_count": null,
      "outputs": []
    },
    {
      "cell_type": "markdown",
      "metadata": {
        "id": "zB3dVa63uxyo"
      },
      "source": [
        "#### Parser da coluna 'participants' e 'participantsIdentities'"
      ]
    },
    {
      "cell_type": "code",
      "metadata": {
        "id": "BWhJCUIKrVf8"
      },
      "source": [
        "df_matches['participants'] = df_matches['participants'].apply(lambda x: x.replace('False', 'false').replace('True', 'true').replace('\\'', '\\\"'), axis=1)\n",
        "df_matches['participants'] = df_matches['participants'].apply(lambda x: json.loads(x))\n",
        "df_matches['participants'].head()"
      ],
      "execution_count": null,
      "outputs": []
    },
    {
      "cell_type": "code",
      "metadata": {
        "colab": {
          "base_uri": "https://localhost:8080/"
        },
        "id": "ERQ-HNwdsmak",
        "outputId": "3ecf96bf-f9d3-4cdb-d08a-cddaca592b4a"
      },
      "source": [
        "df_matches['participantIdentities'] = df_matches['participantIdentities'].apply(lambda x: json.loads( x.replace('False', 'false').replace('True', 'true').replace('\\'', '\\\"')))\n",
        "df_matches['participantIdentities'].head()"
      ],
      "execution_count": null,
      "outputs": []
    },
    {
      "cell_type": "markdown",
      "metadata": {
        "id": "UhMfamuwvON9"
      },
      "source": [
        "####  Merge de ID com estatisticas\n",
        "Faremos o merge das colunas atribuindo o ID global a cada jogador e dividindo os times entre ganhadores e perdedores."
      ]
    },
    {
      "cell_type": "code",
      "metadata": {
        "colab": {
          "base_uri": "https://localhost:8080/",
          "height": 204
        },
        "id": "N8cScxFnZCc4",
        "outputId": "44b2116f-21ca-4203-a60d-e587d7be458a"
      },
      "source": [
        "def merge_identity_with_stats(participant,stats):\n",
        "  return {\n",
        "    **stats['stats'], \n",
        "    'lane': stats['timeline']['lane'], \n",
        "    'role': stats['timeline']['role'], \n",
        "    'championId': stats['championId'], \n",
        "    \"summonerName\": participant[\"player\"][\"summonerName\"]\n",
        "  }\n",
        "\n",
        "xs = []\n",
        "\n",
        "# for _, match in itertools.islice(df_matches.iterrows(), 1):\n",
        "for _, match in df_matches.iterrows():\n",
        "  y = {\n",
        "      'game': match['gameId'],\n",
        "      'win_stats': {},\n",
        "      'lose_stats': {}\n",
        "  }\n",
        "  for stats, identity in zip(match['participants'], match['participantIdentities']):\n",
        "    y['win_stats' if stats['stats']['win'] else 'lose_stats'][identity[\"player\"][\"summonerName\"]] = {\n",
        "        **stats['stats'], \n",
        "      'lane': stats['timeline']['lane'], \n",
        "      'role': stats['timeline']['role'], \n",
        "      'championId': stats['championId'],\n",
        "    }\n",
        "  xs.append(y)\n",
        "\n",
        "df_game_stats = pd.DataFrame(xs)\n",
        "df_game_stats.head()\n"
      ],
      "execution_count": null,
      "outputs": []
    },
    {
      "cell_type": "markdown",
      "metadata": {
        "id": "z40ox1J3xE5-"
      },
      "source": [
        "---\n",
        "### Dataset de vitorias e derrotas\n",
        "\n",
        "Merge do dataset de vitorias e derrotas, e diminuicao do numero de colunas, selecionando as coluans mais relvantes."
      ]
    },
    {
      "cell_type": "code",
      "metadata": {
        "colab": {
          "base_uri": "https://localhost:8080/",
          "height": 224
        },
        "id": "TY_Kh2zIw2yw",
        "outputId": "e481fd2f-0675-4643-df32-9e80e00fac7e"
      },
      "source": [
        "columns = [\n",
        " 'win','firstBlood','firstTower','firstInhibitor','firstBaron',\n",
        " 'firstDragon','firstRiftHerald','towerKills','inhibitorKills','baronKills',\n",
        " 'dragonKills','vilemawKills','riftHeraldKills','gameId'\n",
        "]\n",
        "\n",
        "df_loosers = pd.read_csv('match_loser_data_version1.csv', usecols=columns)\n",
        "df_winners = pd.read_csv('match_winner_data_version1.csv', usecols=columns)\n",
        "\n",
        "# Juncao dos datasets\n",
        "df_results = pd.concat([df_loosers, df_winners])\n",
        "\n",
        "# Conversao da coluna win para boolean\n",
        "df_results['win'] = df_results['win'].map(lambda r: r == 'Win')\n",
        "df_results.head()"
      ],
      "execution_count": null,
      "outputs": []
    },
    {
      "cell_type": "markdown",
      "metadata": {
        "id": "JBJHJ95o0GPY"
      },
      "source": [
        "#####  Correlacao entre as colunas\n",
        "\n",
        "Com a visualizacao do mapa de calor (heatmap) eh possivel vermos quais as variaveis sao mais relevantes para sabermos o resultado da partida."
      ]
    },
    {
      "cell_type": "code",
      "metadata": {
        "id": "GVdsseDWq4uj",
        "colab": {
          "base_uri": "https://localhost:8080/",
          "height": 360
        },
        "outputId": "b2c788c3-b38e-437d-d170-5ee6fa43550b"
      },
      "source": [
        "corr = df_results.corr()\n",
        "\n",
        "ax = sns.heatmap(corr,\n",
        "            xticklabels=corr.columns.values,\n",
        "            yticklabels=corr.columns.values)\n",
        "\n",
        "ax.set_title(\"Attributes Correlation Matrix\", fontsize = 16)"
      ],
      "execution_count": null,
      "outputs": []
    },
    {
      "cell_type": "markdown",
      "metadata": {
        "id": "GPTDo9YlLrq4"
      },
      "source": [
        "Podemos observar uma forte correlação com a vitória na partida:\n",
        "1.   towerKills\n",
        "2.   riftHeraldKills\n",
        "3.   firstInhibitor\n",
        "4.   dragonKills\n",
        "\n"
      ]
    },
    {
      "cell_type": "markdown",
      "metadata": {
        "id": "d4OMfRztism7"
      },
      "source": [
        "##### Bar chart informativos entre correlações x wins\n",
        "\n",
        "Com essa visualizaco eh possivel vermos a correlacao entre as principais "
      ]
    },
    {
      "cell_type": "code",
      "metadata": {
        "id": "ZuPhEXpHQeB1",
        "colab": {
          "base_uri": "https://localhost:8080/",
          "height": 606
        },
        "outputId": "8ee186f2-45ba-4135-f88a-9e2f3d287db9"
      },
      "source": [
        "width = 0.35  # the width of the bars\n",
        "\n",
        "fig, axs = plt.subplots(2, 2, figsize=(10, 10))\n",
        "\n",
        "# tower/wins\n",
        "axs[0,0].bar(df_results['towerKills'].unique(), df_results.groupby('towerKills').sum('win')['win'])\n",
        "axs[0,0].set_xlabel(\"Torres\")\n",
        "axs[0,0].set_ylabel(\"Vitorias\")\n",
        "\n",
        "# dragon/wins\n",
        "axs[0,1].bar(df_results['dragonKills'].unique(), df_results.groupby('dragonKills').sum('win')['win'])\n",
        "axs[0,1].set_xlabel(\"Dragoes\")\n",
        "axs[0,1].set_ylabel(\"Vitorias\")\n",
        "\n",
        "# herald/wins\n",
        "axs[1,0].bar(df_results['riftHeraldKills'].unique(), df_results.groupby('riftHeraldKills').sum('win')['win'])\n",
        "axs[1,0].set_xlabel(\"Arautos\")\n",
        "axs[1,0].set_ylabel(\"Vitorias\")\n",
        "\n",
        "# baron/wins\n",
        "axs[1,1].bar(df_results['firstInhibitor'].unique(), df_results.groupby('firstInhibitor').sum('win')['win'])\n",
        "axs[1,1].set_xlabel(\"Inibidores\")\n",
        "axs[1,1].set_ylabel(\"Vitorias\")\n",
        "\n",
        "plt.show()"
      ],
      "execution_count": null,
      "outputs": []
    },
    {
      "cell_type": "markdown",
      "metadata": {
        "id": "dgsRlj_7LSay"
      },
      "source": [
        "\n",
        "\n",
        "**Towers x Wins**\n",
        "- A equipe que destruiu mais torres, consequentemente apresenta melhores resultados (vitórias)\n",
        "- Uma observação válida para esta situação é que ao destruir 01 torre, se equipara com a proporção de destruir 11. \n",
        "\n",
        "- A provavel explicação para essa situação é que a equipe que estava em desvantagem no jogo, e provavelmente havia perdido sua 1ª torre há pouco, rendeu-se, desta forma, finalizando o jogo e dando a vitória pro outro time.\n",
        "\n",
        "**DragonKills x Wins**\n",
        "- A equipe que atingir a marca de 3 dragons no jogo, tem 5 vezes mais chance de ganhar. \n",
        "\n",
        "- Uma observação de por que 4 dragons ter uma chance menor de a de 3, pode ser devido a estratégia e velocidade do jogo (não sendo possível fazer um 4º dragon, pois o jogo finalizou antes disso ou não proporcionou momentos oportunos para que a equipe faça o 4º dragon)\n",
        "\n",
        "**Heralds x Wins**\n",
        "\n",
        "- Este é o item que melhor proporciona uma indicação de qual equipe ganhará o jogo, pois trata-se de um 'side objective' do jogo, que sendo bem controlado por uma equipe, rendeu de 4 a 6 vezes mais vitórias.\n",
        "\n",
        "**Barons x Wins**\n",
        "\n",
        "- Nesta comparação podemos observar a ausência de importância do objetivo \"matar o Baron\" dentro da partida. Desta forma, equipes que se empenham em realizar esse objetivo, tendem a perder as partidas.\n"
      ]
    }
  ]
}